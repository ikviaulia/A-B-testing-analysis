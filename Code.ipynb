{
 "cells": [
  {
   "cell_type": "markdown",
   "metadata": {
    "id": "hrzp3vhFHe9c"
   },
   "source": [
    "# **Answer 2**"
   ]
  },
  {
   "cell_type": "markdown",
   "metadata": {
    "id": "KkdRVZipHjU2"
   },
   "source": [
    "**Descriptive Analytics**\n",
    "\n",
    "Analyze whether the new payment page performs better than the old one to increase the conversion\n",
    "\n"
   ]
  },
  {
   "cell_type": "markdown",
   "metadata": {
    "id": "efryzPnPa12n"
   },
   "source": [
    "----"
   ]
  },
  {
   "cell_type": "markdown",
   "metadata": {
    "id": "UyRzWT3Ta0V8"
   },
   "source": [
    "Import required libraries"
   ]
  },
  {
   "cell_type": "code",
   "execution_count": 2,
   "metadata": {
    "id": "qL4TSiilIMur"
   },
   "outputs": [],
   "source": [
    "import warnings\n",
    "warnings.filterwarnings('ignore')\n",
    "\n",
    "import numpy as np\n",
    "import pandas as pd\n",
    "import seaborn as sns\n",
    "import matplotlib.pyplot as plt\n",
    "import scipy.stats as st\n",
    "\n",
    "%matplotlib inline"
   ]
  },
  {
   "cell_type": "markdown",
   "metadata": {
    "id": "zls8Sj5HH4cN"
   },
   "source": [
    "# Load and Describe Data"
   ]
  },
  {
   "cell_type": "markdown",
   "metadata": {
    "id": "e0aj6nhZIWoG"
   },
   "source": [
    "## Load Data"
   ]
  },
  {
   "cell_type": "markdown",
   "metadata": {
    "id": "U8qCAmXxa7To"
   },
   "source": [
    "Import and read dataset"
   ]
  },
  {
   "cell_type": "code",
   "execution_count": 3,
   "metadata": {
    "colab": {
     "base_uri": "https://localhost:8080/",
     "height": 204
    },
    "id": "U-NNLxmWHbzd",
    "outputId": "d2a3dc67-731f-4112-94bc-f5c8b195ece7"
   },
   "outputs": [
    {
     "data": {
      "text/html": [
       "<div>\n",
       "<style scoped>\n",
       "    .dataframe tbody tr th:only-of-type {\n",
       "        vertical-align: middle;\n",
       "    }\n",
       "\n",
       "    .dataframe tbody tr th {\n",
       "        vertical-align: top;\n",
       "    }\n",
       "\n",
       "    .dataframe thead th {\n",
       "        text-align: right;\n",
       "    }\n",
       "</style>\n",
       "<table border=\"1\" class=\"dataframe\">\n",
       "  <thead>\n",
       "    <tr style=\"text-align: right;\">\n",
       "      <th></th>\n",
       "      <th>user_id</th>\n",
       "      <th>timestamp</th>\n",
       "      <th>payment_page</th>\n",
       "      <th>is_convert</th>\n",
       "    </tr>\n",
       "  </thead>\n",
       "  <tbody>\n",
       "    <tr>\n",
       "      <th>0</th>\n",
       "      <td>922696</td>\n",
       "      <td>2017-01-02 13:42:05.379</td>\n",
       "      <td>new_page</td>\n",
       "      <td>0</td>\n",
       "    </tr>\n",
       "    <tr>\n",
       "      <th>1</th>\n",
       "      <td>781507</td>\n",
       "      <td>2017-01-02 13:42:15.234</td>\n",
       "      <td>old_page</td>\n",
       "      <td>0</td>\n",
       "    </tr>\n",
       "    <tr>\n",
       "      <th>2</th>\n",
       "      <td>737319</td>\n",
       "      <td>2017-01-02 13:42:21.786</td>\n",
       "      <td>old_page</td>\n",
       "      <td>0</td>\n",
       "    </tr>\n",
       "    <tr>\n",
       "      <th>3</th>\n",
       "      <td>818377</td>\n",
       "      <td>2017-01-02 13:42:26.641</td>\n",
       "      <td>new_page</td>\n",
       "      <td>0</td>\n",
       "    </tr>\n",
       "    <tr>\n",
       "      <th>4</th>\n",
       "      <td>725857</td>\n",
       "      <td>2017-01-02 13:42:27.851</td>\n",
       "      <td>new_page</td>\n",
       "      <td>0</td>\n",
       "    </tr>\n",
       "  </tbody>\n",
       "</table>\n",
       "</div>"
      ],
      "text/plain": [
       "   user_id               timestamp payment_page  is_convert\n",
       "0   922696 2017-01-02 13:42:05.379     new_page           0\n",
       "1   781507 2017-01-02 13:42:15.234     old_page           0\n",
       "2   737319 2017-01-02 13:42:21.786     old_page           0\n",
       "3   818377 2017-01-02 13:42:26.641     new_page           0\n",
       "4   725857 2017-01-02 13:42:27.851     new_page           0"
      ]
     },
     "execution_count": 3,
     "metadata": {
      "tags": []
     },
     "output_type": "execute_result"
    }
   ],
   "source": [
    "data = pd.read_excel('/content/drive/MyDrive/Data Sources.xlsx')\n",
    "data.head()\n"
   ]
  },
  {
   "cell_type": "markdown",
   "metadata": {
    "id": "9Ir8o3AXbAUz"
   },
   "source": [
    "we need to know how many rows dan columns in this dataset"
   ]
  },
  {
   "cell_type": "code",
   "execution_count": 4,
   "metadata": {
    "colab": {
     "base_uri": "https://localhost:8080/"
    },
    "id": "QHNK9hJWI6Ft",
    "outputId": "20ea41a4-f500-4b1c-a8a5-d3a34eb3db7f"
   },
   "outputs": [
    {
     "name": "stdout",
     "output_type": "stream",
     "text": [
      "<class 'pandas.core.frame.DataFrame'>\n",
      "RangeIndex: 294478 entries, 0 to 294477\n",
      "Data columns (total 4 columns):\n",
      " #   Column        Non-Null Count   Dtype         \n",
      "---  ------        --------------   -----         \n",
      " 0   user_id       294478 non-null  int64         \n",
      " 1   timestamp     294478 non-null  datetime64[ns]\n",
      " 2   payment_page  294478 non-null  object        \n",
      " 3   is_convert    294478 non-null  int64         \n",
      "dtypes: datetime64[ns](1), int64(2), object(1)\n",
      "memory usage: 9.0+ MB\n"
     ]
    }
   ],
   "source": [
    "data.info()"
   ]
  },
  {
   "cell_type": "markdown",
   "metadata": {
    "id": "5zXCh9iDJCgj"
   },
   "source": [
    "# Exploratory Data Analysis (EDA)"
   ]
  },
  {
   "cell_type": "markdown",
   "metadata": {
    "id": "TSTouttKJJWZ"
   },
   "source": [
    "## Describe Data"
   ]
  },
  {
   "cell_type": "markdown",
   "metadata": {
    "id": "6cBZb_6FbIxj"
   },
   "source": [
    "Split the numerical and categorical data "
   ]
  },
  {
   "cell_type": "code",
   "execution_count": 5,
   "metadata": {
    "id": "aR__hzL6I_o1"
   },
   "outputs": [],
   "source": [
    "data_num = data.select_dtypes(include=['int64', 'float64'])\n",
    "data_cat = data['payment_page']"
   ]
  },
  {
   "cell_type": "code",
   "execution_count": 6,
   "metadata": {
    "colab": {
     "base_uri": "https://localhost:8080/",
     "height": 297
    },
    "id": "6u90LTJ3KOAa",
    "outputId": "3fe9444d-f914-4ac1-d968-5deb140e6809"
   },
   "outputs": [
    {
     "data": {
      "text/html": [
       "<div>\n",
       "<style scoped>\n",
       "    .dataframe tbody tr th:only-of-type {\n",
       "        vertical-align: middle;\n",
       "    }\n",
       "\n",
       "    .dataframe tbody tr th {\n",
       "        vertical-align: top;\n",
       "    }\n",
       "\n",
       "    .dataframe thead th {\n",
       "        text-align: right;\n",
       "    }\n",
       "</style>\n",
       "<table border=\"1\" class=\"dataframe\">\n",
       "  <thead>\n",
       "    <tr style=\"text-align: right;\">\n",
       "      <th></th>\n",
       "      <th>user_id</th>\n",
       "      <th>is_convert</th>\n",
       "    </tr>\n",
       "  </thead>\n",
       "  <tbody>\n",
       "    <tr>\n",
       "      <th>count</th>\n",
       "      <td>294478.000000</td>\n",
       "      <td>294478.000000</td>\n",
       "    </tr>\n",
       "    <tr>\n",
       "      <th>mean</th>\n",
       "      <td>787974.124733</td>\n",
       "      <td>0.119659</td>\n",
       "    </tr>\n",
       "    <tr>\n",
       "      <th>std</th>\n",
       "      <td>91210.823776</td>\n",
       "      <td>0.324563</td>\n",
       "    </tr>\n",
       "    <tr>\n",
       "      <th>min</th>\n",
       "      <td>630000.000000</td>\n",
       "      <td>0.000000</td>\n",
       "    </tr>\n",
       "    <tr>\n",
       "      <th>25%</th>\n",
       "      <td>709032.250000</td>\n",
       "      <td>0.000000</td>\n",
       "    </tr>\n",
       "    <tr>\n",
       "      <th>50%</th>\n",
       "      <td>787933.500000</td>\n",
       "      <td>0.000000</td>\n",
       "    </tr>\n",
       "    <tr>\n",
       "      <th>75%</th>\n",
       "      <td>866911.750000</td>\n",
       "      <td>0.000000</td>\n",
       "    </tr>\n",
       "    <tr>\n",
       "      <th>max</th>\n",
       "      <td>945999.000000</td>\n",
       "      <td>1.000000</td>\n",
       "    </tr>\n",
       "  </tbody>\n",
       "</table>\n",
       "</div>"
      ],
      "text/plain": [
       "             user_id     is_convert\n",
       "count  294478.000000  294478.000000\n",
       "mean   787974.124733       0.119659\n",
       "std     91210.823776       0.324563\n",
       "min    630000.000000       0.000000\n",
       "25%    709032.250000       0.000000\n",
       "50%    787933.500000       0.000000\n",
       "75%    866911.750000       0.000000\n",
       "max    945999.000000       1.000000"
      ]
     },
     "execution_count": 6,
     "metadata": {
      "tags": []
     },
     "output_type": "execute_result"
    }
   ],
   "source": [
    "data_num.describe()"
   ]
  },
  {
   "cell_type": "code",
   "execution_count": 7,
   "metadata": {
    "colab": {
     "base_uri": "https://localhost:8080/"
    },
    "id": "7j__-eD5KQbY",
    "outputId": "331d65f7-49b9-4263-bd02-c030b0e00f16"
   },
   "outputs": [
    {
     "data": {
      "text/plain": [
       "count       294478\n",
       "unique           2\n",
       "top       old_page\n",
       "freq        147239\n",
       "Name: payment_page, dtype: object"
      ]
     },
     "execution_count": 7,
     "metadata": {
      "tags": []
     },
     "output_type": "execute_result"
    }
   ],
   "source": [
    "data_cat.describe()"
   ]
  },
  {
   "cell_type": "markdown",
   "metadata": {
    "id": "p6zAThvib0VI"
   },
   "source": [
    "Check whether there is missing value and duplicated data or not."
   ]
  },
  {
   "cell_type": "markdown",
   "metadata": {
    "id": "QJVzS4WmKbsu"
   },
   "source": [
    "## Missing Values"
   ]
  },
  {
   "cell_type": "code",
   "execution_count": 8,
   "metadata": {
    "colab": {
     "base_uri": "https://localhost:8080/"
    },
    "id": "DB7jwNRwKXWP",
    "outputId": "ac72a169-d8d7-458e-bfd8-0f19876df812"
   },
   "outputs": [
    {
     "data": {
      "text/plain": [
       "user_id         0\n",
       "timestamp       0\n",
       "payment_page    0\n",
       "is_convert      0\n",
       "dtype: int64"
      ]
     },
     "execution_count": 8,
     "metadata": {
      "tags": []
     },
     "output_type": "execute_result"
    }
   ],
   "source": [
    "data.isnull().sum()"
   ]
  },
  {
   "cell_type": "markdown",
   "metadata": {
    "id": "wx5I0JwrKkSE"
   },
   "source": [
    "There is no missing value in this dataset"
   ]
  },
  {
   "cell_type": "markdown",
   "metadata": {
    "id": "11yBFHBYKqBi"
   },
   "source": [
    "## Duplicated Data"
   ]
  },
  {
   "cell_type": "code",
   "execution_count": 9,
   "metadata": {
    "colab": {
     "base_uri": "https://localhost:8080/"
    },
    "id": "QuDhna5DKtDF",
    "outputId": "07ed42f6-5000-4104-ddd9-0fb61ee1bd2d"
   },
   "outputs": [
    {
     "name": "stdout",
     "output_type": "stream",
     "text": [
      "There is no duplicated data\n"
     ]
    }
   ],
   "source": [
    "if data.duplicated().sum() == 0:\n",
    "    print('There is no duplicated data')\n",
    "else:\n",
    "    print('There are duplicated data: ', data.duplicated().sum())"
   ]
  },
  {
   "cell_type": "markdown",
   "metadata": {
    "id": "DdR4tJ4M-2rJ"
   },
   "source": [
    "we need to find the unique user, so if there are duplicated userId then we need to drop them."
   ]
  },
  {
   "cell_type": "code",
   "execution_count": 24,
   "metadata": {
    "colab": {
     "base_uri": "https://localhost:8080/"
    },
    "id": "v86Z3PxM-0RL",
    "outputId": "854ee648-fb0f-4855-cd9e-91b26b00744f"
   },
   "outputs": [
    {
     "name": "stdout",
     "output_type": "stream",
     "text": [
      "There are 3894 users that appear multiple times in the dataset\n"
     ]
    }
   ],
   "source": [
    "unique_user = data['user_id'].value_counts(ascending=False)\n",
    "multi_users = unique_user[unique_user > 1].count()\n",
    "\n",
    "print('There are {} users that appear multiple times in the dataset'.format(multi_users))"
   ]
  },
  {
   "cell_type": "code",
   "execution_count": 25,
   "metadata": {
    "colab": {
     "base_uri": "https://localhost:8080/"
    },
    "id": "4-dfVRVK_D0N",
    "outputId": "424a61a6-80b5-47de-d3ec-8ba37e5de57d"
   },
   "outputs": [
    {
     "name": "stdout",
     "output_type": "stream",
     "text": [
      "<class 'pandas.core.frame.DataFrame'>\n",
      "Int64Index: 286690 entries, 0 to 294477\n",
      "Data columns (total 4 columns):\n",
      " #   Column        Non-Null Count   Dtype         \n",
      "---  ------        --------------   -----         \n",
      " 0   user_id       286690 non-null  int64         \n",
      " 1   timestamp     286690 non-null  datetime64[ns]\n",
      " 2   payment_page  286690 non-null  object        \n",
      " 3   is_convert    286690 non-null  int64         \n",
      "dtypes: datetime64[ns](1), int64(2), object(1)\n",
      "memory usage: 10.9+ MB\n"
     ]
    }
   ],
   "source": [
    "multi_users_drop = unique_user[unique_user > 1].index\n",
    "\n",
    "data = data[~data['user_id'].isin(multi_users_drop)]\n",
    "data.info()"
   ]
  },
  {
   "cell_type": "markdown",
   "metadata": {
    "id": "BWDn73KH-2BJ"
   },
   "source": [
    "we have new dataset with unique user only, there are 286690 rows."
   ]
  },
  {
   "cell_type": "markdown",
   "metadata": {
    "id": "ms8HHQvuKv6k"
   },
   "source": [
    "## Univariate Analysis"
   ]
  },
  {
   "cell_type": "markdown",
   "metadata": {
    "id": "TwNftZZJK2Jb"
   },
   "source": [
    "### Numerical Data"
   ]
  },
  {
   "cell_type": "code",
   "execution_count": 26,
   "metadata": {
    "colab": {
     "base_uri": "https://localhost:8080/",
     "height": 144
    },
    "id": "HJ-hoK_zKztF",
    "outputId": "0bb2ed5c-60ef-48a5-bb93-b720fb5dfc5c"
   },
   "outputs": [
    {
     "data": {
      "image/png": "[encoded data removed]",
      "text/plain": [
       "<Figure size 1800x1080 with 2 Axes>"
      ]
     },
     "metadata": {
      "needs_background": "light",
      "tags": []
     },
     "output_type": "display_data"
    }
   ],
   "source": [
    "plt.figure(figsize=(25, 15))\n",
    "for i in range(0, len(data_num.columns)):\n",
    "    plt.subplot(10, 1, i+1)\n",
    "    sns.boxplot(data[data_num.columns[i]],orient='v')\n",
    "    plt.tight_layout()\n"
   ]
  },
  {
   "cell_type": "markdown",
   "metadata": {
    "id": "uZF2kMP8K7H_"
   },
   "source": [
    "### Categorical Data"
   ]
  },
  {
   "cell_type": "code",
   "execution_count": 27,
   "metadata": {
    "colab": {
     "base_uri": "https://localhost:8080/",
     "height": 536
    },
    "id": "h5dZuUOYLAEc",
    "outputId": "02ba9a6d-e100-4a1c-8175-44c33bb49d83"
   },
   "outputs": [
    {
     "data": {
      "image/png": "[encoded data removed]",
      "text/plain": [
       "<Figure size 2520x1296 with 1 Axes>"
      ]
     },
     "metadata": {
      "needs_background": "light",
      "tags": []
     },
     "output_type": "display_data"
    }
   ],
   "source": [
    "plt.figure(figsize = (35, 18))\n",
    "graph = sns.countplot(x = 'payment_page', color='#8aabca', data=data)\n",
    "graph.set_xlabel('Pages', fontsize=20)\n",
    "\n",
    "\n",
    "for p in graph.patches:\n",
    "        graph.annotate('{:.0f}'.format(p.get_height()), (p.get_x()+0.4, p.get_height()),\n",
    "                    ha='center', va='bottom',\n",
    "                    color= 'black', fontsize=20)"
   ]
  },
  {
   "cell_type": "code",
   "execution_count": 28,
   "metadata": {
    "colab": {
     "base_uri": "https://localhost:8080/",
     "height": 535
    },
    "id": "Ra0HYHQ5LvpC",
    "outputId": "bcd2f927-882c-45af-ddc7-08c5c634563b"
   },
   "outputs": [
    {
     "data": {
      "image/png": "[encoded data removed]",
      "text/plain": [
       "<Figure size 2520x1296 with 1 Axes>"
      ]
     },
     "metadata": {
      "needs_background": "light",
      "tags": []
     },
     "output_type": "display_data"
    }
   ],
   "source": [
    "plt.figure(figsize = (35, 18))\n",
    "graph = sns.countplot(x = 'is_convert', color='#273755', data=data)\n",
    "graph.set_xlabel('Conversion', fontsize=20)\n",
    "\n",
    "\n",
    "for p in graph.patches:\n",
    "        graph.annotate('{:.0f}'.format(p.get_height()), (p.get_x()+0.4, p.get_height()),\n",
    "                    ha='center', va='bottom',\n",
    "                    color= 'black', fontsize=20)"
   ]
  },
  {
   "cell_type": "markdown",
   "metadata": {
    "id": "akpl-UiVcavN"
   },
   "source": [
    "In this chart, there is only **12% users** who converted in both old page and new page."
   ]
  },
  {
   "cell_type": "markdown",
   "metadata": {
    "id": "RtP_YxFyNU4Y"
   },
   "source": [
    "## Multivariate Analysis"
   ]
  },
  {
   "cell_type": "code",
   "execution_count": 29,
   "metadata": {
    "colab": {
     "base_uri": "https://localhost:8080/",
     "height": 442
    },
    "id": "A5iDiOIoNVfu",
    "outputId": "aad7a573-0b43-4604-8dbd-a502de7e0305"
   },
   "outputs": [
    {
     "data": {
      "image/png": "[encoded data removed]",
      "text/plain": [
       "<Figure size 1440x576 with 1 Axes>"
      ]
     },
     "metadata": {
      "needs_background": "light",
      "tags": []
     },
     "output_type": "display_data"
    }
   ],
   "source": [
    "fig, ax = plt.subplots(nrows=1, ncols=1, figsize=(20,8))\n",
    "g = sns.countplot('payment_page',hue='is_convert',data=data,ax=ax, palette='RdBu')\n",
    "ax.set_title('Conversion Rate by Payment Page')\n",
    "\n",
    "ax.set_xlabel('Is Convert')\n",
    "ax.set_ylabel('Count')\n",
    "\n",
    "for p in g.patches:\n",
    "        g.annotate('{:.0f}'.format(p.get_height()), (p.get_x()+0.2, p.get_height()),\n",
    "                    ha='center', va='bottom',\n",
    "                    color= 'black', fontsize=12)"
   ]
  },
  {
   "cell_type": "markdown",
   "metadata": {
    "id": "cx-LfuKbdMzO"
   },
   "source": [
    "We compared the conversion rate from new_page and old page, the result is conversion rate in old page is slightly **higher 0.13%** than new page. In the new page, user who converted is only **11.87%**"
   ]
  },
  {
   "cell_type": "markdown",
   "metadata": {
    "id": "gXSt1AXxdw9J"
   },
   "source": [
    "---"
   ]
  },
  {
   "cell_type": "markdown",
   "metadata": {
    "id": "XN6mmZ2PdyN9"
   },
   "source": [
    "another insight for user who converted"
   ]
  },
  {
   "cell_type": "code",
   "execution_count": 30,
   "metadata": {
    "colab": {
     "base_uri": "https://localhost:8080/",
     "height": 142
    },
    "id": "MhnRx_k4PQ63",
    "outputId": "c34feb45-57e3-4c04-b216-9266d19f00ba"
   },
   "outputs": [
    {
     "data": {
      "text/html": [
       "<div>\n",
       "<style scoped>\n",
       "    .dataframe tbody tr th:only-of-type {\n",
       "        vertical-align: middle;\n",
       "    }\n",
       "\n",
       "    .dataframe tbody tr th {\n",
       "        vertical-align: top;\n",
       "    }\n",
       "\n",
       "    .dataframe thead th {\n",
       "        text-align: right;\n",
       "    }\n",
       "</style>\n",
       "<table border=\"1\" class=\"dataframe\">\n",
       "  <thead>\n",
       "    <tr style=\"text-align: right;\">\n",
       "      <th></th>\n",
       "      <th>user_id</th>\n",
       "      <th>timestamp</th>\n",
       "      <th>payment_page</th>\n",
       "      <th>is_convert</th>\n",
       "    </tr>\n",
       "  </thead>\n",
       "  <tbody>\n",
       "    <tr>\n",
       "      <th>10</th>\n",
       "      <td>643921</td>\n",
       "      <td>2017-01-02 13:43:03.767</td>\n",
       "      <td>old_page</td>\n",
       "      <td>1</td>\n",
       "    </tr>\n",
       "    <tr>\n",
       "      <th>14</th>\n",
       "      <td>889153</td>\n",
       "      <td>2017-01-02 13:43:35.690</td>\n",
       "      <td>new_page</td>\n",
       "      <td>1</td>\n",
       "    </tr>\n",
       "    <tr>\n",
       "      <th>26</th>\n",
       "      <td>664064</td>\n",
       "      <td>2017-01-02 13:45:13.057</td>\n",
       "      <td>old_page</td>\n",
       "      <td>1</td>\n",
       "    </tr>\n",
       "  </tbody>\n",
       "</table>\n",
       "</div>"
      ],
      "text/plain": [
       "    user_id               timestamp payment_page  is_convert\n",
       "10   643921 2017-01-02 13:43:03.767     old_page           1\n",
       "14   889153 2017-01-02 13:43:35.690     new_page           1\n",
       "26   664064 2017-01-02 13:45:13.057     old_page           1"
      ]
     },
     "execution_count": 30,
     "metadata": {
      "tags": []
     },
     "output_type": "execute_result"
    }
   ],
   "source": [
    "convert = data[data['is_convert']==1]\n",
    "convert.head(3)"
   ]
  },
  {
   "cell_type": "code",
   "execution_count": 31,
   "metadata": {
    "colab": {
     "base_uri": "https://localhost:8080/",
     "height": 320
    },
    "id": "vnmFqD8NREVN",
    "outputId": "dd85f2fb-f6f1-4e6d-b150-9d56aeb4a651"
   },
   "outputs": [
    {
     "data": {
      "text/plain": [
       "<matplotlib.axes._subplots.AxesSubplot at 0x7f7dcf6dd910>"
      ]
     },
     "execution_count": 31,
     "metadata": {
      "tags": []
     },
     "output_type": "execute_result"
    },
    {
     "data": {
      "image/png": "[encoded data removed]",
      "text/plain": [
       "<Figure size 432x288 with 1 Axes>"
      ]
     },
     "metadata": {
      "needs_background": "light",
      "tags": []
     },
     "output_type": "display_data"
    }
   ],
   "source": [
    "converted_in_day = convert.resample('D', on='timestamp').user_id.count()\n",
    "converted_in_day"
   ]
  },
  {
   "cell_type": "code",
   "execution_count": 32,
   "metadata": {
    "colab": {
     "base_uri": "https://localhost:8080/"
    },
    "id": "RONNwfimeswi",
    "outputId": "e726f164-8627-44dc-f78f-c5ef4a5a87fa"
   },
   "outputs": [
    {
     "data": {
      "text/plain": [
       "1488.9130434782608"
      ]
     },
     "execution_count": 32,
     "metadata": {
      "tags": []
     },
     "output_type": "execute_result"
    }
   ],
   "source": [
    "converted_in_day.mean()"
   ]
  },
  {
   "cell_type": "markdown",
   "metadata": {
    "id": "2seDk0j7e0hz"
   },
   "source": [
    "There are average 1488 users who converted in a day."
   ]
  },
  {
   "cell_type": "markdown",
   "metadata": {
    "id": "HcnraeFte-O3"
   },
   "source": [
    "Then, we need to look specifically insight in new_page. First, we filter the dataset based on `new_page` and `is_convert=1`"
   ]
  },
  {
   "cell_type": "code",
   "execution_count": 33,
   "metadata": {
    "colab": {
     "base_uri": "https://localhost:8080/",
     "height": 142
    },
    "id": "NTzOJPCVVyTo",
    "outputId": "1fd21bb0-662b-4feb-bd7c-e0cc68779494"
   },
   "outputs": [
    {
     "data": {
      "text/html": [
       "<div>\n",
       "<style scoped>\n",
       "    .dataframe tbody tr th:only-of-type {\n",
       "        vertical-align: middle;\n",
       "    }\n",
       "\n",
       "    .dataframe tbody tr th {\n",
       "        vertical-align: top;\n",
       "    }\n",
       "\n",
       "    .dataframe thead th {\n",
       "        text-align: right;\n",
       "    }\n",
       "</style>\n",
       "<table border=\"1\" class=\"dataframe\">\n",
       "  <thead>\n",
       "    <tr style=\"text-align: right;\">\n",
       "      <th></th>\n",
       "      <th>user_id</th>\n",
       "      <th>timestamp</th>\n",
       "      <th>payment_page</th>\n",
       "      <th>is_convert</th>\n",
       "    </tr>\n",
       "  </thead>\n",
       "  <tbody>\n",
       "    <tr>\n",
       "      <th>14</th>\n",
       "      <td>889153</td>\n",
       "      <td>2017-01-02 13:43:35.690</td>\n",
       "      <td>new_page</td>\n",
       "      <td>1</td>\n",
       "    </tr>\n",
       "    <tr>\n",
       "      <th>31</th>\n",
       "      <td>871586</td>\n",
       "      <td>2017-01-02 13:45:41.340</td>\n",
       "      <td>new_page</td>\n",
       "      <td>1</td>\n",
       "    </tr>\n",
       "    <tr>\n",
       "      <th>32</th>\n",
       "      <td>735893</td>\n",
       "      <td>2017-01-02 13:45:52.805</td>\n",
       "      <td>new_page</td>\n",
       "      <td>1</td>\n",
       "    </tr>\n",
       "  </tbody>\n",
       "</table>\n",
       "</div>"
      ],
      "text/plain": [
       "    user_id               timestamp payment_page  is_convert\n",
       "14   889153 2017-01-02 13:43:35.690     new_page           1\n",
       "31   871586 2017-01-02 13:45:41.340     new_page           1\n",
       "32   735893 2017-01-02 13:45:52.805     new_page           1"
      ]
     },
     "execution_count": 33,
     "metadata": {
      "tags": []
     },
     "output_type": "execute_result"
    }
   ],
   "source": [
    "convert_new = convert[convert['payment_page']=='new_page']\n",
    "convert_new.head(3)"
   ]
  },
  {
   "cell_type": "code",
   "execution_count": 34,
   "metadata": {
    "colab": {
     "base_uri": "https://localhost:8080/",
     "height": 320
    },
    "id": "X5coxpOBWIIm",
    "outputId": "be1a1c4f-6b2e-4cf7-84e0-5fcba93a62b1"
   },
   "outputs": [
    {
     "data": {
      "text/plain": [
       "<matplotlib.axes._subplots.AxesSubplot at 0x7f7dc8ac4890>"
      ]
     },
     "execution_count": 34,
     "metadata": {
      "tags": []
     },
     "output_type": "execute_result"
    },
    {
     "data": {
      "image/png": "[encoded data removed]",
      "text/plain": [
       "<Figure size 432x288 with 1 Axes>"
      ]
     },
     "metadata": {
      "needs_background": "light",
      "tags": []
     },
     "output_type": "display_data"
    }
   ],
   "source": [
    "convert_new_in_day = convert_new.resample('D', on='timestamp').user_id.count()\n",
    "convert_new_in_day.plot()"
   ]
  },
  {
   "cell_type": "code",
   "execution_count": 35,
   "metadata": {
    "colab": {
     "base_uri": "https://localhost:8080/"
    },
    "id": "P26zIBw5fcjq",
    "outputId": "b2388b2e-80bc-47fd-b6a9-1aaae7b36ffc"
   },
   "outputs": [
    {
     "data": {
      "text/plain": [
       "740.2173913043479"
      ]
     },
     "execution_count": 35,
     "metadata": {
      "tags": []
     },
     "output_type": "execute_result"
    }
   ],
   "source": [
    "convert_new_in_day.mean()"
   ]
  },
  {
   "cell_type": "markdown",
   "metadata": {
    "id": "orcP6z1DTw5S"
   },
   "source": [
    "There are average 740 users who converted in new page in a day."
   ]
  },
  {
   "cell_type": "markdown",
   "metadata": {
    "id": "7Aovb16EkBch"
   },
   "source": [
    "----"
   ]
  },
  {
   "cell_type": "markdown",
   "metadata": {
    "id": "FJr-G-MpjuRq"
   },
   "source": [
    "from the chart above, we can conclude that conversion rate in old page is higher than new page. We can actually prove that using *hypothesis testing*"
   ]
  },
  {
   "cell_type": "markdown",
   "metadata": {
    "id": "GQy4n1lXAo6z"
   },
   "source": [
    "1. Sampling Data"
   ]
  },
  {
   "cell_type": "markdown",
   "metadata": {
    "id": "i9tIy26jArxC"
   },
   "source": [
    "with 2% of error, we are going to sampling the data"
   ]
  },
  {
   "cell_type": "code",
   "execution_count": 38,
   "metadata": {
    "colab": {
     "base_uri": "https://localhost:8080/"
    },
    "id": "5Oa3OQ2RAq1p",
    "outputId": "838874ac-4c4e-44a8-9ada-b3ca8689b30d"
   },
   "outputs": [
    {
     "name": "stdout",
     "output_type": "stream",
     "text": [
      "Number of samples: 2478\n"
     ]
    }
   ],
   "source": [
    "N = data.shape[0]\n",
    "e = 2/100\n",
    "\n",
    "slovin = N/(1+N * e**2)\n",
    "print('Number of samples:', round(slovin))"
   ]
  },
  {
   "cell_type": "markdown",
   "metadata": {
    "id": "fuDP8KR4BXFi"
   },
   "source": [
    "Slice data from dataset. We will sample 2478 for each group contains user who accessed each payment page"
   ]
  },
  {
   "cell_type": "code",
   "execution_count": 41,
   "metadata": {
    "colab": {
     "base_uri": "https://localhost:8080/",
     "height": 204
    },
    "id": "Mc98Z3xTCE3Y",
    "outputId": "9d8b1a71-c000-4efc-c8fa-f6cb3ff74e56"
   },
   "outputs": [
    {
     "data": {
      "text/html": [
       "<div>\n",
       "<style scoped>\n",
       "    .dataframe tbody tr th:only-of-type {\n",
       "        vertical-align: middle;\n",
       "    }\n",
       "\n",
       "    .dataframe tbody tr th {\n",
       "        vertical-align: top;\n",
       "    }\n",
       "\n",
       "    .dataframe thead th {\n",
       "        text-align: right;\n",
       "    }\n",
       "</style>\n",
       "<table border=\"1\" class=\"dataframe\">\n",
       "  <thead>\n",
       "    <tr style=\"text-align: right;\">\n",
       "      <th></th>\n",
       "      <th>user_id</th>\n",
       "      <th>timestamp</th>\n",
       "      <th>payment_page</th>\n",
       "      <th>is_convert</th>\n",
       "    </tr>\n",
       "  </thead>\n",
       "  <tbody>\n",
       "    <tr>\n",
       "      <th>0</th>\n",
       "      <td>823727</td>\n",
       "      <td>2017-01-24 11:47:46.281</td>\n",
       "      <td>old_page</td>\n",
       "      <td>0</td>\n",
       "    </tr>\n",
       "    <tr>\n",
       "      <th>1</th>\n",
       "      <td>644191</td>\n",
       "      <td>2017-01-22 00:54:16.546</td>\n",
       "      <td>old_page</td>\n",
       "      <td>0</td>\n",
       "    </tr>\n",
       "    <tr>\n",
       "      <th>2</th>\n",
       "      <td>887898</td>\n",
       "      <td>2017-01-24 02:19:20.125</td>\n",
       "      <td>old_page</td>\n",
       "      <td>0</td>\n",
       "    </tr>\n",
       "    <tr>\n",
       "      <th>3</th>\n",
       "      <td>634543</td>\n",
       "      <td>2017-01-19 22:19:21.293</td>\n",
       "      <td>old_page</td>\n",
       "      <td>0</td>\n",
       "    </tr>\n",
       "    <tr>\n",
       "      <th>4</th>\n",
       "      <td>922103</td>\n",
       "      <td>2017-01-16 05:39:06.687</td>\n",
       "      <td>old_page</td>\n",
       "      <td>0</td>\n",
       "    </tr>\n",
       "  </tbody>\n",
       "</table>\n",
       "</div>"
      ],
      "text/plain": [
       "   user_id               timestamp payment_page  is_convert\n",
       "0   823727 2017-01-24 11:47:46.281     old_page           0\n",
       "1   644191 2017-01-22 00:54:16.546     old_page           0\n",
       "2   887898 2017-01-24 02:19:20.125     old_page           0\n",
       "3   634543 2017-01-19 22:19:21.293     old_page           0\n",
       "4   922103 2017-01-16 05:39:06.687     old_page           0"
      ]
     },
     "execution_count": 41,
     "metadata": {
      "tags": []
     },
     "output_type": "execute_result"
    }
   ],
   "source": [
    "old_page_sample = data[data['payment_page'] == 'old_page'].sample(n=round(slovin), random_state=42)\n",
    "new_page_sample = data[data['payment_page'] == 'new_page'].sample(n=round(slovin), random_state=42)\n",
    "\n",
    "sample_data = old_page_sample.append(new_page_sample)\n",
    "sample_data.reset_index(drop=True, inplace=True)\n",
    "sample_data.head()"
   ]
  },
  {
   "cell_type": "code",
   "execution_count": 42,
   "metadata": {
    "colab": {
     "base_uri": "https://localhost:8080/"
    },
    "id": "koa10A6HBjvl",
    "outputId": "1da1a299-46a4-4015-8073-72729e2528bb"
   },
   "outputs": [
    {
     "name": "stdout",
     "output_type": "stream",
     "text": [
      "<class 'pandas.core.frame.DataFrame'>\n",
      "RangeIndex: 4956 entries, 0 to 4955\n",
      "Data columns (total 4 columns):\n",
      " #   Column        Non-Null Count  Dtype         \n",
      "---  ------        --------------  -----         \n",
      " 0   user_id       4956 non-null   int64         \n",
      " 1   timestamp     4956 non-null   datetime64[ns]\n",
      " 2   payment_page  4956 non-null   object        \n",
      " 3   is_convert    4956 non-null   int64         \n",
      "dtypes: datetime64[ns](1), int64(2), object(1)\n",
      "memory usage: 155.0+ KB\n"
     ]
    }
   ],
   "source": [
    "sample_data.info()"
   ]
  },
  {
   "cell_type": "code",
   "execution_count": 43,
   "metadata": {
    "colab": {
     "base_uri": "https://localhost:8080/",
     "height": 539
    },
    "id": "bXJYj5IUC1N3",
    "outputId": "81f5b781-89e2-45c1-fb7f-6c10b0d60123"
   },
   "outputs": [
    {
     "data": {
      "image/png": "[encoded data removed]",
      "text/plain": [
       "<Figure size 2520x1296 with 1 Axes>"
      ]
     },
     "metadata": {
      "needs_background": "light",
      "tags": []
     },
     "output_type": "display_data"
    }
   ],
   "source": [
    "plt.figure(figsize = (35, 18))\n",
    "graph = sns.countplot(x = 'payment_page', color='#8aabca', data=sample_data)\n",
    "graph.set_xlabel('Pages', fontsize=20)\n",
    "\n",
    "\n",
    "for p in graph.patches:\n",
    "        graph.annotate('{:.0f}'.format(p.get_height()), (p.get_x()+0.4, p.get_height()),\n",
    "                    ha='center', va='bottom',\n",
    "                    color= 'black', fontsize=20)"
   ]
  },
  {
   "cell_type": "code",
   "execution_count": 47,
   "metadata": {
    "colab": {
     "base_uri": "https://localhost:8080/",
     "height": 103
    },
    "id": "c5nw9z3BC-9P",
    "outputId": "648daa27-6439-49c9-c6e4-3e78258063f2"
   },
   "outputs": [
    {
     "data": {
      "text/html": [
       "<style  type=\"text/css\" >\n",
       "</style><table id=\"T_eb1b3656_affc_11eb_8516_0242ac1c0002\" ><thead>    <tr>        <th class=\"blank level0\" ></th>        <th class=\"col_heading level0 col0\" >conversion_rate</th>        <th class=\"col_heading level0 col1\" >standard_deviation</th>        <th class=\"col_heading level0 col2\" >standard_error</th>    </tr>    <tr>        <th class=\"index_name level0\" >payment_page</th>        <th class=\"blank\" ></th>        <th class=\"blank\" ></th>        <th class=\"blank\" ></th>    </tr></thead><tbody>\n",
       "                <tr>\n",
       "                        <th id=\"T_eb1b3656_affc_11eb_8516_0242ac1c0002level0_row0\" class=\"row_heading level0 row0\" >new_page</th>\n",
       "                        <td id=\"T_eb1b3656_affc_11eb_8516_0242ac1c0002row0_col0\" class=\"data row0 col0\" >0.113</td>\n",
       "                        <td id=\"T_eb1b3656_affc_11eb_8516_0242ac1c0002row0_col1\" class=\"data row0 col1\" >0.317</td>\n",
       "                        <td id=\"T_eb1b3656_affc_11eb_8516_0242ac1c0002row0_col2\" class=\"data row0 col2\" >0.006</td>\n",
       "            </tr>\n",
       "            <tr>\n",
       "                        <th id=\"T_eb1b3656_affc_11eb_8516_0242ac1c0002level0_row1\" class=\"row_heading level0 row1\" >old_page</th>\n",
       "                        <td id=\"T_eb1b3656_affc_11eb_8516_0242ac1c0002row1_col0\" class=\"data row1 col0\" >0.114</td>\n",
       "                        <td id=\"T_eb1b3656_affc_11eb_8516_0242ac1c0002row1_col1\" class=\"data row1 col1\" >0.318</td>\n",
       "                        <td id=\"T_eb1b3656_affc_11eb_8516_0242ac1c0002row1_col2\" class=\"data row1 col2\" >0.006</td>\n",
       "            </tr>\n",
       "    </tbody></table>"
      ],
      "text/plain": [
       "<pandas.io.formats.style.Styler at 0x7f7dcf024950>"
      ]
     },
     "execution_count": 47,
     "metadata": {
      "tags": []
     },
     "output_type": "execute_result"
    }
   ],
   "source": [
    "conversion_rate = sample_data.groupby('payment_page')['is_convert']\n",
    "\n",
    "std_p = lambda x: np.std(x, ddof=0)              \n",
    "se_p = lambda x: st.sem(x, ddof=0)       \n",
    "\n",
    "conversion_rate = conversion_rate.agg([np.mean, std_p, se_p])\n",
    "conversion_rate.columns = ['conversion_rate', 'standard_deviation', 'standard_error']\n",
    "\n",
    "\n",
    "conversion_rate.style.format('{:.3f}')"
   ]
  },
  {
   "cell_type": "markdown",
   "metadata": {
    "id": "dXbH9IibDlq-"
   },
   "source": [
    "from the calculation above, old_page also have the conversion rate slightly higher than the new one."
   ]
  },
  {
   "cell_type": "code",
   "execution_count": 52,
   "metadata": {
    "colab": {
     "base_uri": "https://localhost:8080/",
     "height": 645
    },
    "id": "6hUk0LkmDkK7",
    "outputId": "900e90c4-b9ab-4ba9-eeed-b9fad4d9027b"
   },
   "outputs": [
    {
     "data": {
      "image/png": "[encoded data removed]",
      "text/plain": [
       "<Figure size 1080x720 with 1 Axes>"
      ]
     },
     "metadata": {
      "needs_background": "light",
      "tags": []
     },
     "output_type": "display_data"
    },
    {
     "data": {
      "text/plain": [
       "<Figure size 576x432 with 0 Axes>"
      ]
     },
     "metadata": {
      "tags": []
     },
     "output_type": "display_data"
    },
    {
     "data": {
      "text/plain": [
       "<Figure size 576x432 with 0 Axes>"
      ]
     },
     "metadata": {
      "tags": []
     },
     "output_type": "display_data"
    }
   ],
   "source": [
    "plt.figure(figsize = (15, 10))\n",
    "graph = sns.barplot(x = 'payment_page', y='is_convert', color='#e3cdc1', data=sample_data, ci=False)\n",
    "graph.set_xlabel('Pages', fontsize=15)\n",
    "\n",
    "\n",
    "for p in graph.patches:\n",
    "        graph.annotate('{:.3f}'.format(p.get_height()), (p.get_x()+0.4, p.get_height()),\n",
    "                    ha='center', va='bottom',\n",
    "                    color= 'black', fontsize=13)\n",
    "        \n",
    "        plt.figure(figsize=(8,6))\n",
    "\n"
   ]
  },
  {
   "cell_type": "markdown",
   "metadata": {
    "id": "1bIvb6PnEyaG"
   },
   "source": [
    "---"
   ]
  },
  {
   "cell_type": "markdown",
   "metadata": {
    "id": "Ipe9z1IHFLtb"
   },
   "source": [
    "We can actually prove that is it statistically significant the difference of conversion rate between old page and new page?\n",
    "\n",
    "we are going to use T-Test to prove that."
   ]
  },
  {
   "cell_type": "markdown",
   "metadata": {
    "id": "AW39ZwqskCk-"
   },
   "source": [
    "\n",
    "\n",
    "**H0**: Conversion rate in new page as same as in the old page\n",
    "\n",
    "**H1**: Conversion rate in new page is difference from old page"
   ]
  },
  {
   "cell_type": "code",
   "execution_count": 57,
   "metadata": {
    "colab": {
     "base_uri": "https://localhost:8080/"
    },
    "id": "nPyHnYS2GRfz",
    "outputId": "fc22379d-ce91-4976-a761-6ca560754bf4"
   },
   "outputs": [
    {
     "data": {
      "text/plain": [
       "(0       0\n",
       " 1       0\n",
       " 2       0\n",
       " 3       0\n",
       " 4       0\n",
       "        ..\n",
       " 4951    0\n",
       " 4952    0\n",
       " 4953    0\n",
       " 4954    1\n",
       " 4955    0\n",
       " Name: is_convert, Length: 4956, dtype: int64, 0       0\n",
       " 1       0\n",
       " 2       0\n",
       " 3       0\n",
       " 4       0\n",
       "        ..\n",
       " 4951    0\n",
       " 4952    0\n",
       " 4953    0\n",
       " 4954    1\n",
       " 4955    0\n",
       " Name: is_convert, Length: 4956, dtype: int64)"
      ]
     },
     "execution_count": 57,
     "metadata": {
      "tags": []
     },
     "output_type": "execute_result"
    }
   ],
   "source": [
    "new_page = sample_data[sample_data['payment_page']=='new_page']\n",
    "new_page = sample_data['is_convert']\n",
    "\n",
    "old_page = sample_data[sample_data['payment_page']=='old_page']\n",
    "old_page = sample_data['is_convert']\n",
    "\n",
    "old_page, new_page"
   ]
  },
  {
   "cell_type": "code",
   "execution_count": 62,
   "metadata": {
    "colab": {
     "base_uri": "https://localhost:8080/"
    },
    "id": "zZ73fHN7mrv1",
    "outputId": "d58d3d91-99c4-4aef-b073-3fb15d3e60ba"
   },
   "outputs": [
    {
     "name": "stdout",
     "output_type": "stream",
     "text": [
      "P-Value : 1.0\n",
      "(Accept H0) Conversion rate in new page as same as in the new page\n"
     ]
    }
   ],
   "source": [
    "ttest = st.ttest_ind(a=old_page, b=new_page)\n",
    "p_value = ttest.pvalue\n",
    "alpha = 5/100\n",
    "\n",
    "print('P-Value :', p_value)\n",
    "if p_value >= alpha:\n",
    "    print('(Accept H0) Conversion rate in new page as same as in the new page')\n",
    "else:\n",
    "    print('(Reject H0) Conversion rate in new page is difference from old page')"
   ]
  },
  {
   "cell_type": "markdown",
   "metadata": {
    "id": "AoTtGjuYHnKy"
   },
   "source": [
    "Since our P-value is **1.0** and it is above our alpha α=0.05 threshold, we accept hypothesis H0. Means that we are **95%** confidence the new design did not perform significantly different than the old one."
   ]
  },
  {
   "cell_type": "markdown",
   "metadata": {
    "id": "LvdGqMZWIW2y"
   },
   "source": [
    "---"
   ]
  }
 ],
 "metadata": {
  "colab": {
   "collapsed_sections": [],
   "name": "Answer 2.ipynb",
   "provenance": []
  },
  "kernelspec": {
   "display_name": "Python 3",
   "language": "python",
   "name": "python3"
  },
  "language_info": {
   "codemirror_mode": {
    "name": "ipython",
    "version": 3
   },
   "file_extension": ".py",
   "mimetype": "text/x-python",
   "name": "python",
   "nbconvert_exporter": "python",
   "pygments_lexer": "ipython3",
   "version": "3.8.3"
  },
  "toc": {
   "base_numbering": 1,
   "nav_menu": {},
   "number_sections": true,
   "sideBar": true,
   "skip_h1_title": false,
   "title_cell": "Table of Contents",
   "title_sidebar": "Contents",
   "toc_cell": false,
   "toc_position": {},
   "toc_section_display": true,
   "toc_window_display": true
  }
 },
 "nbformat": 4,
 "nbformat_minor": 1
}
